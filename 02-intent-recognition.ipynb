{
 "cells": [
  {
   "cell_type": "markdown",
   "metadata": {},
   "source": [
    "## 📚 Prerequisites\n",
    "\n",
    "Before running this notebook, ensure you have configured Azure AI services, set the appropriate configuration parameters, and set up a Conda environment to ensure reproducibility. You can find the setup instructions and how to create a Conda environment in the [REQUIREMENTS.md](REQUIREMENTS.md) file.\n",
    "\n",
    "\n",
    "## 📋 Table of Contents\n",
    "\n",
    "This notebook guides you through the following sections:\n",
    "\n",
    "1. [**Intent Recognition using Azure AI Language Models**](#intent-recognition-using-azure-ai-language-models): This section covers how to recognize intent from speech using  azure AI language models.\n",
    "\n",
    "2. [**Intent Recognition using Azure Open AI Models**](#intent-recognition-using-azure-open-ai-models): This section covers how to recognize intent from speech using Azure openAI language models.\n",
    "\n",
    "For more details, refer to the following resources:\n",
    "- [Quickstart: Azure Cognitive Services Speech SDK](https://github.com/Azure-Samples/cognitive-services-speech-sdk/tree/master)\n"
   ]
  },
  {
   "cell_type": "markdown",
   "metadata": {},
   "source": [
    "## Intent Recognition using Language Models"
   ]
  },
  {
   "cell_type": "code",
   "execution_count": 8,
   "metadata": {},
   "outputs": [],
   "source": [
    "from src.lenguage.intent_from_lenguage import IntentRecognizer\n",
    "\n",
    "intent_client = IntentRecognizer()"
   ]
  },
  {
   "cell_type": "code",
   "execution_count": 9,
   "metadata": {},
   "outputs": [],
   "source": [
    "# Define the path to the audio file\n",
    "AUDIO_FILE_PCM_STEREO = \"C://Users//pablosal//Desktop//gbbai-azure-ai-speech-services//utils//audio_data//d6a35a5e-be01-40cd-b9ef-d61fcda699fa.pcm\""
   ]
  },
  {
   "cell_type": "code",
   "execution_count": 10,
   "metadata": {},
   "outputs": [],
   "source": [
    "# Define the intent list\n",
    "intent_list = [\n",
    "    (\"What is the {weather}?\", \"queryMeteorology\"),\n",
    "    (\"What is the {date}?\", \"queryDate\"),\n",
    "]"
   ]
  },
  {
   "cell_type": "code",
   "execution_count": 12,
   "metadata": {},
   "outputs": [
    {
     "name": "stderr",
     "output_type": "stream",
     "text": [
      "2023-12-26 17:48:39,801 - micro - MainProcess - INFO     Starting continuous intent recognition... (intent_from_lenguage.py:recognize_intent_continuous:69)\n",
      "2023-12-26 17:48:39,803 - micro - MainProcess - ERROR    An error occurred while analyzing the audio file: 'sample_width' (utils_audio.py:log_audio_characteristics:91)\n",
      "2023-12-26 17:48:39,806 - micro - MainProcess - INFO     SESSION_START: SessionEventArgs(session_id=8910119309fa49e480862f59692947ea) (intent_from_lenguage.py:<lambda>:109)\n",
      "2023-12-26 17:48:40,798 - micro - MainProcess - INFO     RECOGNIZING: IntentRecognitionEventArgs(session_id=8910119309fa49e480862f59692947ea, result=IntentRecognitionResult(result_id=dd40dc49085d4bdcb277d6ee793b6792, text=\"what is the\", intent_id=, reason=ResultReason.RecognizingSpeech)) (intent_from_lenguage.py:<lambda>:112)\n",
      "2023-12-26 17:48:40,999 - micro - MainProcess - INFO     RECOGNIZED: Intent Id: queryDate, Text: What is the date? (intent_from_lenguage.py:on_intent_recognized:94)\n",
      "2023-12-26 17:48:41,419 - micro - MainProcess - INFO     RECOGNIZING: IntentRecognitionEventArgs(session_id=8910119309fa49e480862f59692947ea, result=IntentRecognitionResult(result_id=6ce2df9aaf6b4e2780b8c50d3a8131d6, text=\"may\", intent_id=, reason=ResultReason.RecognizingSpeech)) (intent_from_lenguage.py:<lambda>:112)\n",
      "2023-12-26 17:48:41,695 - micro - MainProcess - INFO     RECOGNIZING: IntentRecognitionEventArgs(session_id=8910119309fa49e480862f59692947ea, result=IntentRecognitionResult(result_id=f7523ebb7a8a4957a920976f91c09a60, text=\"may 15th\", intent_id=, reason=ResultReason.RecognizingSpeech)) (intent_from_lenguage.py:<lambda>:112)\n",
      "2023-12-26 17:48:41,803 - micro - MainProcess - INFO     RECOGNIZING: IntentRecognitionEventArgs(session_id=8910119309fa49e480862f59692947ea, result=IntentRecognitionResult(result_id=f94e1f633bf44ff69122685dba3b873d, text=\"may 15th 1980\", intent_id=, reason=ResultReason.RecognizingSpeech)) (intent_from_lenguage.py:<lambda>:112)\n",
      "2023-12-26 17:48:41,928 - micro - MainProcess - INFO     RECOGNIZED: Intent Id: , Text: May 15th, 1980. (intent_from_lenguage.py:on_intent_recognized:94)\n",
      "2023-12-26 17:48:42,521 - micro - MainProcess - INFO     RECOGNIZING: IntentRecognitionEventArgs(session_id=8910119309fa49e480862f59692947ea, result=IntentRecognitionResult(result_id=5e5d3b8a5021420388b9116a4ea0b938, text=\"thursday may\", intent_id=, reason=ResultReason.RecognizingSpeech)) (intent_from_lenguage.py:<lambda>:112)\n",
      "2023-12-26 17:48:42,708 - micro - MainProcess - INFO     RECOGNIZING: IntentRecognitionEventArgs(session_id=8910119309fa49e480862f59692947ea, result=IntentRecognitionResult(result_id=1a34f0fd1e1a425eb657e3b1ad8fcf4d, text=\"thursday may 5th\", intent_id=, reason=ResultReason.RecognizingSpeech)) (intent_from_lenguage.py:<lambda>:112)\n",
      "2023-12-26 17:48:42,799 - micro - MainProcess - INFO     RECOGNIZING: IntentRecognitionEventArgs(session_id=8910119309fa49e480862f59692947ea, result=IntentRecognitionResult(result_id=70a1d36942d0409d88504bd2c1534f98, text=\"thursday may 15th\", intent_id=, reason=ResultReason.RecognizingSpeech)) (intent_from_lenguage.py:<lambda>:112)\n",
      "2023-12-26 17:48:43,007 - micro - MainProcess - INFO     RECOGNIZING: IntentRecognitionEventArgs(session_id=8910119309fa49e480862f59692947ea, result=IntentRecognitionResult(result_id=42f53928a6924ed2aae42456c04e1ede, text=\"thursday may 15th 19\", intent_id=, reason=ResultReason.RecognizingSpeech)) (intent_from_lenguage.py:<lambda>:112)\n",
      "2023-12-26 17:48:43,498 - micro - MainProcess - INFO     RECOGNIZING: IntentRecognitionEventArgs(session_id=8910119309fa49e480862f59692947ea, result=IntentRecognitionResult(result_id=8c38a595eb5d4b72967cad91e108f475, text=\"thursday may 15th 1900\", intent_id=, reason=ResultReason.RecognizingSpeech)) (intent_from_lenguage.py:<lambda>:112)\n",
      "2023-12-26 17:48:43,610 - micro - MainProcess - INFO     RECOGNIZING: IntentRecognitionEventArgs(session_id=8910119309fa49e480862f59692947ea, result=IntentRecognitionResult(result_id=41b9e8e6e1b044f58f56e73615ce4ce2, text=\"thursday may 15th 19180\", intent_id=, reason=ResultReason.RecognizingSpeech)) (intent_from_lenguage.py:<lambda>:112)\n",
      "2023-12-26 17:48:43,749 - micro - MainProcess - INFO     RECOGNIZED: Intent Id: , Text: Thursday, May 15th, 19180. (intent_from_lenguage.py:on_intent_recognized:94)\n",
      "2023-12-26 17:48:44,335 - micro - MainProcess - INFO     RECOGNIZING: IntentRecognitionEventArgs(session_id=8910119309fa49e480862f59692947ea, result=IntentRecognitionResult(result_id=74c1565ae71143bfa548fd9a033dea8a, text=\"what is\", intent_id=, reason=ResultReason.RecognizingSpeech)) (intent_from_lenguage.py:<lambda>:112)\n",
      "2023-12-26 17:48:44,412 - micro - MainProcess - INFO     RECOGNIZING: IntentRecognitionEventArgs(session_id=8910119309fa49e480862f59692947ea, result=IntentRecognitionResult(result_id=165e38619fbc4f48b92244327d189cfa, text=\"what is the\", intent_id=, reason=ResultReason.RecognizingSpeech)) (intent_from_lenguage.py:<lambda>:112)\n",
      "2023-12-26 17:48:44,506 - micro - MainProcess - INFO     RECOGNIZING: IntentRecognitionEventArgs(session_id=8910119309fa49e480862f59692947ea, result=IntentRecognitionResult(result_id=aa0ac123675b42c1be698fbeec40356b, text=\"what is the date\", intent_id=, reason=ResultReason.RecognizingSpeech)) (intent_from_lenguage.py:<lambda>:112)\n",
      "2023-12-26 17:48:44,600 - micro - MainProcess - INFO     RECOGNIZED: Intent Id: queryDate, Text: What is the date? (intent_from_lenguage.py:on_intent_recognized:94)\n",
      "2023-12-26 17:48:45,816 - micro - MainProcess - INFO     RECOGNIZING: IntentRecognitionEventArgs(session_id=8910119309fa49e480862f59692947ea, result=IntentRecognitionResult(result_id=e6f12324389f4c8082e995fb892c4796, text=\"july\", intent_id=, reason=ResultReason.RecognizingSpeech)) (intent_from_lenguage.py:<lambda>:112)\n",
      "2023-12-26 17:48:46,175 - micro - MainProcess - INFO     RECOGNIZING: IntentRecognitionEventArgs(session_id=8910119309fa49e480862f59692947ea, result=IntentRecognitionResult(result_id=e2b3bf5213ed4d51bc3cf1f70fb00ffa, text=\"july 6\", intent_id=, reason=ResultReason.RecognizingSpeech)) (intent_from_lenguage.py:<lambda>:112)\n",
      "2023-12-26 17:48:46,236 - micro - MainProcess - INFO     RECOGNIZED: Intent Id: , Text: July 6. (intent_from_lenguage.py:on_intent_recognized:94)\n",
      "2023-12-26 17:48:47,629 - micro - MainProcess - INFO     RECOGNIZING: IntentRecognitionEventArgs(session_id=8910119309fa49e480862f59692947ea, result=IntentRecognitionResult(result_id=10ac36eacb364a6ea94e4ddf7448312e, text=\"saturday\", intent_id=, reason=ResultReason.RecognizingSpeech)) (intent_from_lenguage.py:<lambda>:112)\n",
      "2023-12-26 17:48:47,921 - micro - MainProcess - INFO     RECOGNIZING: IntentRecognitionEventArgs(session_id=8910119309fa49e480862f59692947ea, result=IntentRecognitionResult(result_id=2d39d0999b7b4db5aa6e0589d77917ce, text=\"saturday july\", intent_id=, reason=ResultReason.RecognizingSpeech)) (intent_from_lenguage.py:<lambda>:112)\n",
      "2023-12-26 17:48:48,247 - micro - MainProcess - INFO     RECOGNIZING: IntentRecognitionEventArgs(session_id=8910119309fa49e480862f59692947ea, result=IntentRecognitionResult(result_id=2ab8f3c25d0345eda0d9642ed9cd416f, text=\"saturday july 6th\", intent_id=, reason=ResultReason.RecognizingSpeech)) (intent_from_lenguage.py:<lambda>:112)\n",
      "2023-12-26 17:48:48,418 - micro - MainProcess - INFO     RECOGNIZING: IntentRecognitionEventArgs(session_id=8910119309fa49e480862f59692947ea, result=IntentRecognitionResult(result_id=f0e636748119441082bc67c69a4a280d, text=\"saturday july 6th 2:00\", intent_id=, reason=ResultReason.RecognizingSpeech)) (intent_from_lenguage.py:<lambda>:112)\n",
      "2023-12-26 17:48:48,824 - micro - MainProcess - INFO     RECOGNIZING: IntentRecognitionEventArgs(session_id=8910119309fa49e480862f59692947ea, result=IntentRecognitionResult(result_id=3179b4ac35994fe4afcebe9c30f0756f, text=\"saturday july 6th 2000\", intent_id=, reason=ResultReason.RecognizingSpeech)) (intent_from_lenguage.py:<lambda>:112)\n",
      "2023-12-26 17:48:48,932 - micro - MainProcess - INFO     RECOGNIZING: IntentRecognitionEventArgs(session_id=8910119309fa49e480862f59692947ea, result=IntentRecognitionResult(result_id=a3b24fbad5ce41fb9a59b4de6dc4e38f, text=\"saturday july 6th 2020\", intent_id=, reason=ResultReason.RecognizingSpeech)) (intent_from_lenguage.py:<lambda>:112)\n",
      "2023-12-26 17:48:49,181 - micro - MainProcess - INFO     RECOGNIZED: Intent Id: , Text: Saturday, July 6th, 2024. (intent_from_lenguage.py:on_intent_recognized:94)\n",
      "2023-12-26 17:48:49,415 - micro - MainProcess - INFO     RECOGNIZED: Intent Id: , Text:  (intent_from_lenguage.py:on_intent_recognized:94)\n",
      "2023-12-26 17:48:49,419 - micro - MainProcess - INFO     CLOSING on IntentRecognitionCanceledEventArgs(session_id=8910119309fa49e480862f59692947ea, result=IntentRecognitionResult(result_id=34a6c26220a34e41bcfdba20935ff591, text=\"\", intent_id=, reason=ResultReason.Canceled)) (intent_from_lenguage.py:stop_cb:103)\n",
      "2023-12-26 17:48:49,421 - micro - MainProcess - INFO     CLOSING on SessionEventArgs(session_id=8910119309fa49e480862f59692947ea) (intent_from_lenguage.py:stop_cb:103)\n",
      "2023-12-26 17:48:49,474 - micro - MainProcess - INFO     Final intent determined: {'queryDate': 2} (intent_from_lenguage.py:recognize_intent_continuous:132)\n",
      "2023-12-26 17:48:49,475 - micro - MainProcess - INFO     Finished continuous intent recognition. (intent_from_lenguage.py:recognize_intent_continuous:133)\n"
     ]
    }
   ],
   "source": [
    "try:\n",
    "    # Call the recognize_intent_continuous method of the intent_recognizer object\n",
    "    intent_client.recognize_intent_continuous(AUDIO_FILE_PCM_STEREO, intent_list)\n",
    "except Exception as e:\n",
    "    print(f\"Failed to recognize intent: {e}\")"
   ]
  },
  {
   "cell_type": "code",
   "execution_count": 13,
   "metadata": {},
   "outputs": [
    {
     "name": "stderr",
     "output_type": "stream",
     "text": [
      "2023-12-26 17:49:02,687 - micro - MainProcess - INFO     Starting one-shot intent recognition... (intent_from_lenguage.py:recognize_intent_once_from_file:149)\n",
      "2023-12-26 17:49:03,995 - micro - MainProcess - INFO     Recognized: \"What is the date?\" with intent id `queryDate` (intent_from_lenguage.py:recognize_intent_once_from_file:172)\n",
      "2023-12-26 17:49:03,996 - micro - MainProcess - INFO     Finished one-shot intent recognition. (intent_from_lenguage.py:recognize_intent_once_from_file:192)\n"
     ]
    }
   ],
   "source": [
    "try:\n",
    "    # Call the recognize_intent_once_from_file method of the intent_recognizer object\n",
    "    intent_client.recognize_intent_once_from_file(AUDIO_FILE_PCM_STEREO, intent_list)\n",
    "except Exception as e:\n",
    "    print(f\"Failed to recognize intent: {e}\")"
   ]
  },
  {
   "cell_type": "markdown",
   "metadata": {},
   "source": [
    "## Intent Recognition using Azure Open AI Models"
   ]
  },
  {
   "cell_type": "code",
   "execution_count": 22,
   "metadata": {},
   "outputs": [],
   "source": [
    "from src.aoai.intent_azure_openai import AzureOpenAIAssistant\n",
    "from src.speech.speech_to_text import SpeechTranscriber\n",
    "\n",
    "transcriber_client = SpeechTranscriber()\n",
    "intent_client = AzureOpenAIAssistant()"
   ]
  },
  {
   "cell_type": "code",
   "execution_count": 25,
   "metadata": {},
   "outputs": [
    {
     "name": "stderr",
     "output_type": "stream",
     "text": [
      "2023-12-26 18:05:13,625 - micro - MainProcess - INFO     SESSION STARTED: SessionEventArgs(session_id=77a73b31e46a49c2a6fde82f2d295d06) (speech_to_text.py:<lambda>:136)\n",
      "2023-12-26 18:05:14,760 - micro - MainProcess - INFO     RECOGNIZING: SpeechRecognitionEventArgs(session_id=77a73b31e46a49c2a6fde82f2d295d06, result=SpeechRecognitionResult(result_id=f9ba4a99b1f4474d9d2101de5b72f030, text=\"what is the date\", reason=ResultReason.RecognizingSpeech)) (speech_to_text.py:<lambda>:132)\n",
      "2023-12-26 18:05:15,550 - micro - MainProcess - INFO     RECOGNIZING: SpeechRecognitionEventArgs(session_id=77a73b31e46a49c2a6fde82f2d295d06, result=SpeechRecognitionResult(result_id=cd39c5b4617e4d7bb93b4211e578e48e, text=\"may 15th 1980\", reason=ResultReason.RecognizingSpeech)) (speech_to_text.py:<lambda>:132)\n",
      "2023-12-26 18:05:16,554 - micro - MainProcess - INFO     RECOGNIZING: SpeechRecognitionEventArgs(session_id=77a73b31e46a49c2a6fde82f2d295d06, result=SpeechRecognitionResult(result_id=9ec1180906c7452fb7a33e9dfd475e08, text=\"thursday\", reason=ResultReason.RecognizingSpeech)) (speech_to_text.py:<lambda>:132)\n",
      "2023-12-26 18:05:16,644 - micro - MainProcess - INFO     RECOGNIZING: SpeechRecognitionEventArgs(session_id=77a73b31e46a49c2a6fde82f2d295d06, result=SpeechRecognitionResult(result_id=3ebffb7d0d5e4c809843ca406a0b1c9e, text=\"thursday may\", reason=ResultReason.RecognizingSpeech)) (speech_to_text.py:<lambda>:132)\n",
      "2023-12-26 18:05:16,767 - micro - MainProcess - INFO     RECOGNIZING: SpeechRecognitionEventArgs(session_id=77a73b31e46a49c2a6fde82f2d295d06, result=SpeechRecognitionResult(result_id=f58f10ccb6334540bee6414d1029d82c, text=\"thursday may 15th\", reason=ResultReason.RecognizingSpeech)) (speech_to_text.py:<lambda>:132)\n",
      "2023-12-26 18:05:16,987 - micro - MainProcess - INFO     RECOGNIZING: SpeechRecognitionEventArgs(session_id=77a73b31e46a49c2a6fde82f2d295d06, result=SpeechRecognitionResult(result_id=9863cdd6b93a487e9eb4274202337aab, text=\"thursday may 15th 19\", reason=ResultReason.RecognizingSpeech)) (speech_to_text.py:<lambda>:132)\n",
      "2023-12-26 18:05:17,188 - micro - MainProcess - INFO     RECOGNIZING: SpeechRecognitionEventArgs(session_id=77a73b31e46a49c2a6fde82f2d295d06, result=SpeechRecognitionResult(result_id=86e0f6d219604146b1966b43274dbd8f, text=\"thursday may 15th 1900\", reason=ResultReason.RecognizingSpeech)) (speech_to_text.py:<lambda>:132)\n",
      "2023-12-26 18:05:17,297 - micro - MainProcess - INFO     RECOGNIZING: SpeechRecognitionEventArgs(session_id=77a73b31e46a49c2a6fde82f2d295d06, result=SpeechRecognitionResult(result_id=3301d9537bfc41d7b4d695fcd0176e38, text=\"thursday may 15th 19180\", reason=ResultReason.RecognizingSpeech)) (speech_to_text.py:<lambda>:132)\n",
      "2023-12-26 18:05:18,199 - micro - MainProcess - INFO     RECOGNIZING: SpeechRecognitionEventArgs(session_id=77a73b31e46a49c2a6fde82f2d295d06, result=SpeechRecognitionResult(result_id=9c97a6390c6f4c608a222e5c280ced65, text=\"what is\", reason=ResultReason.RecognizingSpeech)) (speech_to_text.py:<lambda>:132)\n",
      "2023-12-26 18:05:18,322 - micro - MainProcess - INFO     RECOGNIZING: SpeechRecognitionEventArgs(session_id=77a73b31e46a49c2a6fde82f2d295d06, result=SpeechRecognitionResult(result_id=586a2808079343c2afad7395becea1b0, text=\"what is the date\", reason=ResultReason.RecognizingSpeech)) (speech_to_text.py:<lambda>:132)\n",
      "2023-12-26 18:05:21,542 - micro - MainProcess - INFO     RECOGNIZING: SpeechRecognitionEventArgs(session_id=77a73b31e46a49c2a6fde82f2d295d06, result=SpeechRecognitionResult(result_id=5717ea0432554ee78f8307af38ed8ab1, text=\"saturday\", reason=ResultReason.RecognizingSpeech)) (speech_to_text.py:<lambda>:132)\n",
      "2023-12-26 18:05:21,741 - micro - MainProcess - INFO     RECOGNIZING: SpeechRecognitionEventArgs(session_id=77a73b31e46a49c2a6fde82f2d295d06, result=SpeechRecognitionResult(result_id=1d2d1c0fe8a24b3299dac07c7f044a00, text=\"saturday july\", reason=ResultReason.RecognizingSpeech)) (speech_to_text.py:<lambda>:132)\n",
      "2023-12-26 18:05:22,148 - micro - MainProcess - INFO     RECOGNIZING: SpeechRecognitionEventArgs(session_id=77a73b31e46a49c2a6fde82f2d295d06, result=SpeechRecognitionResult(result_id=424fe97ccb0941738e38babb1b8ec696, text=\"saturday july 6\", reason=ResultReason.RecognizingSpeech)) (speech_to_text.py:<lambda>:132)\n",
      "2023-12-26 18:05:22,238 - micro - MainProcess - INFO     RECOGNIZING: SpeechRecognitionEventArgs(session_id=77a73b31e46a49c2a6fde82f2d295d06, result=SpeechRecognitionResult(result_id=e50a6b25c7b947fba39153de3f9c9d6b, text=\"saturday july 6th\", reason=ResultReason.RecognizingSpeech)) (speech_to_text.py:<lambda>:132)\n",
      "2023-12-26 18:05:22,348 - micro - MainProcess - INFO     RECOGNIZING: SpeechRecognitionEventArgs(session_id=77a73b31e46a49c2a6fde82f2d295d06, result=SpeechRecognitionResult(result_id=50a25c39ba104837a323acf8b075c1f6, text=\"saturday july 6th 2:00\", reason=ResultReason.RecognizingSpeech)) (speech_to_text.py:<lambda>:132)\n",
      "2023-12-26 18:05:22,549 - micro - MainProcess - INFO     RECOGNIZING: SpeechRecognitionEventArgs(session_id=77a73b31e46a49c2a6fde82f2d295d06, result=SpeechRecognitionResult(result_id=b65c0c373069488ca731bf1179c05308, text=\"saturday july 6th 2000\", reason=ResultReason.RecognizingSpeech)) (speech_to_text.py:<lambda>:132)\n",
      "2023-12-26 18:05:22,739 - micro - MainProcess - INFO     RECOGNIZING: SpeechRecognitionEventArgs(session_id=77a73b31e46a49c2a6fde82f2d295d06, result=SpeechRecognitionResult(result_id=12865726f4124e698f8b89c6fd49a4cf, text=\"saturday july 6th 2020\", reason=ResultReason.RecognizingSpeech)) (speech_to_text.py:<lambda>:132)\n",
      "2023-12-26 18:05:23,159 - micro - MainProcess - INFO     CANCELED SpeechRecognitionCanceledEventArgs(session_id=77a73b31e46a49c2a6fde82f2d295d06, result=SpeechRecognitionResult(result_id=b5745130976d4daeb3e9def07bf91246, text=\"\", reason=ResultReason.Canceled)) (speech_to_text.py:<lambda>:141)\n",
      "2023-12-26 18:05:23,163 - micro - MainProcess - INFO     CLOSING on SpeechRecognitionCanceledEventArgs(session_id=77a73b31e46a49c2a6fde82f2d295d06, result=SpeechRecognitionResult(result_id=b5745130976d4daeb3e9def07bf91246, text=\"\", reason=ResultReason.Canceled)) (speech_to_text.py:stop_cb:127)\n",
      "2023-12-26 18:05:23,164 - micro - MainProcess - INFO     SESSION STOPPED SessionEventArgs(session_id=77a73b31e46a49c2a6fde82f2d295d06) (speech_to_text.py:<lambda>:139)\n",
      "2023-12-26 18:05:23,167 - micro - MainProcess - INFO     CLOSING on SessionEventArgs(session_id=77a73b31e46a49c2a6fde82f2d295d06) (speech_to_text.py:stop_cb:127)\n"
     ]
    },
    {
     "name": "stdout",
     "output_type": "stream",
     "text": [
      "Transcription successful. Transcribed text: What is the date? May 15th, 1980. Thursday, May 15th, 19180. What is the date? Saturday, July 6th, 2024.\n"
     ]
    }
   ],
   "source": [
    "transcription = transcriber_client.transcribe_speech_from_file_continuous(\n",
    "    file_name=AUDIO_FILE_PCM_STEREO\n",
    ")\n",
    "\n",
    "if transcription:\n",
    "    print(f\"Transcription successful. Transcribed text: {transcription}\")\n",
    "else:\n",
    "    print.error(\"Failed to transcribe speech from the provided audio file.\")"
   ]
  },
  {
   "cell_type": "code",
   "execution_count": 27,
   "metadata": {},
   "outputs": [
    {
     "name": "stderr",
     "output_type": "stream",
     "text": [
      "2023-12-26 18:08:15,815 - micro - MainProcess - INFO     Sending request to OpenAI with prompt: What is the date? May 15th, 1980. Thursday, May 15th, 19180. What is the date? Saturday, July 6th, 2024. (intent_azure_openai.py:generate_text_with_contextual_history:124)\n",
      "2023-12-26 18:08:23,478 - micro - MainProcess - INFO     Received response from OpenAI: Summary and Intent Classification:\n",
      "\n",
      "Summary: The text provides two different dates: May 15th, 1980, which is incorrectly followed by a nonsensical year \"19180,\" and July 6th, 2024, which is a future date relative to the knowledge cutoff in 2023.\n",
      "\n",
      "Intent: The primary intent of the text is to inquire about the current date, which is interspersed with the mention of specific historical and future dates. The intent seems to be to elicit a response providing the correct current date. (intent_azure_openai.py:generate_text_with_contextual_history:135)\n",
      "2023-12-26 18:08:23,480 - micro - MainProcess - INFO     Summarization and intent classification successful. Response: Summary and Intent Classification:\n",
      "\n",
      "Summary: The text provides two different dates: May 15th, 1980, which is incorrectly followed by a nonsensical year \"19180,\" and July 6th, 2024, which is a future date relative to the knowledge cutoff in 2023.\n",
      "\n",
      "Intent: The primary intent of the text is to inquire about the current date, which is interspersed with the mention of specific historical and future dates. The intent seems to be to elicit a response providing the correct current date. (intent_azure_openai.py:summarize_and_classify_intent:182)\n"
     ]
    },
    {
     "ename": "",
     "evalue": "",
     "output_type": "error",
     "traceback": [
      "\u001b[1;31mThe Kernel crashed while executing code in the the current cell or a previous cell. Please review the code in the cell(s) to identify a possible cause of the failure. Click <a href='https://aka.ms/vscodeJupyterKernelCrash'>here</a> for more info. View Jupyter <a href='command:jupyter.viewOutput'>log</a> for further details."
     ]
    }
   ],
   "source": [
    "response = intent_client.summarize_and_classify_intent(text=transcription)\n",
    "\n",
    "if not response:\n",
    "    error_message = \"Failed to summarize and classify intent from the transcribed text. The response from the OpenAI API was None.\"\n",
    "    print.error(error_message)\n",
    "    raise ValueError(error_message)"
   ]
  }
 ],
 "metadata": {
  "kernelspec": {
   "display_name": "lilly-speach-to-text",
   "language": "python",
   "name": "python3"
  },
  "language_info": {
   "codemirror_mode": {
    "name": "ipython",
    "version": 3
   },
   "file_extension": ".py",
   "mimetype": "text/x-python",
   "name": "python",
   "nbconvert_exporter": "python",
   "pygments_lexer": "ipython3",
   "version": "3.9.18"
  }
 },
 "nbformat": 4,
 "nbformat_minor": 2
}
