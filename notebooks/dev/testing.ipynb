{
 "cells": [
  {
   "cell_type": "code",
   "execution_count": 1,
   "metadata": {},
   "outputs": [],
   "source": [
    "import os\n",
    "# Set the working directory to your project's main folder\n",
    "os.chdir('/mnt/c/Users/pablosal/Desktop/lilly-workshop-gbb-text-to-speach/')\n",
    "import azure.cognitiveservices.speech as speechsdk\n",
    "from utils.ml_logging import get_logger\n",
    "from dotenv import load_dotenv\n",
    "load_dotenv()\n",
    "logger = get_logger()"
   ]
  },
  {
   "cell_type": "code",
   "execution_count": 2,
   "metadata": {},
   "outputs": [],
   "source": [
    "KEY = os.getenv('KEY')\n",
    "REGION = os.getenv('REGION')\n",
    "FILE_NAME = 'notebooks/dev/8000khz-mulaw-pullstream/7.wav'"
   ]
  },
  {
   "cell_type": "code",
   "execution_count": 6,
   "metadata": {},
   "outputs": [],
   "source": [
    "def from_file(file_name: str, key: str, region: str) -> str:\n",
    "    \"\"\"\n",
    "    Transcribes speech from an audio file using Azure Cognitive Services Speech SDK.\n",
    "\n",
    "    Args:\n",
    "        file_name (str): The name of the audio file to transcribe.\n",
    "        key (str): The subscription key for the Speech service.\n",
    "        region (str): The region for the Speech service.\n",
    "\n",
    "    Returns:\n",
    "        str: The transcribed text from the audio file.\n",
    "    \"\"\"\n",
    "    speech_config = speechsdk.SpeechConfig(subscription=key, region=region)\n",
    "    audio_config = speechsdk.AudioConfig(filename=file_name)\n",
    "    speech_recognizer = speechsdk.SpeechRecognizer(speech_config=speech_config, audio_config=audio_config)\n",
    "\n",
    "    logger.info(f\"Transcribing speech from file: {file_name}\")\n",
    "    result = speech_recognizer.recognize_once_async().get()\n",
    "    if result.reason == speechsdk.ResultReason.RecognizedSpeech:\n",
    "        logger.info(f\"Transcription result: {result.text}\")\n",
    "    elif result.reason == speechsdk.ResultReason.NoMatch:\n",
    "        logger.warning(f\"No speech could be recognized: {result.no_match_details}\")\n",
    "    elif result.reason == speechsdk.ResultReason.Canceled:\n",
    "        cancellation_details = result.cancellation_details\n",
    "        logger.error(f\"Speech Recognition canceled: {cancellation_details.reason}\")\n",
    "        if cancellation_details.reason == speechsdk.CancellationReason.Error:\n",
    "            logger.error(f\"Error details: {cancellation_details.error_details}\")\n",
    "    return result.text\n"
   ]
  },
  {
   "cell_type": "code",
   "execution_count": 10,
   "metadata": {},
   "outputs": [
    {
     "name": "stderr",
     "output_type": "stream",
     "text": [
      "2023-11-14 16:20:10,238 - micro - MainProcess - INFO     Transcribing speech from file: /mnt/c/Users/pablosal/Desktop/lilly-workshop-gbb-text-to-speach/notebooks/dev/8000khz-mulaw-pullstream/7.wav (4106455139.py:from_file:17)\n",
      "2023-11-14 16:20:10,244 - micro - MainProcess - ERROR    Speech Recognition canceled: CancellationReason.Error (4106455139.py:from_file:25)\n",
      "2023-11-14 16:20:10,245 - micro - MainProcess - ERROR    Error details: Runtime error: Failed to initialize platform (azure-c-shared). Error: 2153 SessionId: b498113da2c34b4bb977f0e956982074 (4106455139.py:from_file:27)\n"
     ]
    },
    {
     "data": {
      "text/plain": [
       "''"
      ]
     },
     "execution_count": 10,
     "metadata": {},
     "output_type": "execute_result"
    }
   ],
   "source": [
    "from_file(file_name=\"/mnt/c/Users/pablosal/Desktop/lilly-workshop-gbb-text-to-speach/notebooks/dev/8000khz-mulaw-pullstream/7.wav\", key=KEY, region=REGION)"
   ]
  },
  {
   "cell_type": "code",
   "execution_count": 5,
   "metadata": {},
   "outputs": [
    {
     "ename": "RuntimeError",
     "evalue": "Exception with error code: \n[CALL STACK BEGIN]\n\n/home/pablosal/miniconda3/envs/lilly-speach-to-text/lib/python3.9/site-packages/azure/cognitiveservices/speech/libMicrosoft.CognitiveServices.Speech.extension.audio.sys.so(+0xe1e9) [0x7f761f40e1e9]\n/home/pablosal/miniconda3/envs/lilly-speach-to-text/lib/python3.9/site-packages/azure/cognitiveservices/speech/libMicrosoft.CognitiveServices.Speech.core.so(+0x1f44f9) [0x7f761f9f44f9]\n/home/pablosal/miniconda3/envs/lilly-speach-to-text/lib/python3.9/site-packages/azure/cognitiveservices/speech/libMicrosoft.CognitiveServices.Speech.core.so(+0xff4f7) [0x7f761f8ff4f7]\n/home/pablosal/miniconda3/envs/lilly-speach-to-text/lib/python3.9/site-packages/azure/cognitiveservices/speech/libMicrosoft.CognitiveServices.Speech.core.so(+0x1af42f) [0x7f761f9af42f]\n/home/pablosal/miniconda3/envs/lilly-speach-to-text/lib/python3.9/site-packages/azure/cognitiveservices/speech/libMicrosoft.CognitiveServices.Speech.core.so(+0xf108d) [0x7f761f8f108d]\n/home/pablosal/miniconda3/envs/lilly-speach-to-text/lib/python3.9/site-packages/azure/cognitiveservices/speech/libMicrosoft.CognitiveServices.Speech.core.so(+0x1f44f9) [0x7f761f9f44f9]\n/home/pablosal/miniconda3/envs/lilly-speach-to-text/lib/python3.9/site-packages/azure/cognitiveservices/speech/libMicrosoft.CognitiveServices.Speech.core.so(+0xff4f7) [0x7f761f8ff4f7]\n/home/pablosal/miniconda3/envs/lilly-speach-to-text/lib/python3.9/site-packages/azure/cognitiveservices/speech/libMicrosoft.CognitiveServices.Speech.core.so(+0x1ab483) [0x7f761f9ab483]\n/home/pablosal/miniconda3/envs/lilly-speach-to-text/lib/python3.9/site-packages/azure/cognitiveservices/speech/libMicrosoft.CognitiveServices.Speech.core.so(+0x192d81) [0x7f761f992d81]\n/home/pablosal/miniconda3/envs/lilly-speach-to-text/lib/python3.9/site-packages/azure/cognitiveservices/speech/libMicrosoft.CognitiveServices.Speech.core.so(+0x130379) [0x7f761f930379]\n/home/pablosal/miniconda3/envs/lilly-speach-to-text/lib/python3.9/site-packages/azure/cognitiveservices/speech/libMicrosoft.CognitiveServices.Speech.core.so(+0x130379) [0x7f761f930379]\n/home/pablosal/miniconda3/envs/lilly-speach-to-text/lib/python3.9/site-packages/azure/cognitiveservices/speech/libMicrosoft.CognitiveServices.Speech.core.so(+0x19b4f5) [0x7f761f99b4f5]\n/home/pablosal/miniconda3/envs/lilly-speach-to-text/lib/python3.9/site-packages/azure/cognitiveservices/speech/libMicrosoft.CognitiveServices.Speech.core.so(+0x13e44f) [0x7f761f93e44f]\n/home/pablosal/miniconda3/envs/lilly-speach-to-text/lib/python3.9/site-packages/azure/cognitiveservices/speech/libMicrosoft.CognitiveServices.Speech.core.so(+0x1e65f6) [0x7f761f9e65f6]\n/home/pablosal/miniconda3/envs/lilly-speach-to-text/lib/python3.9/site-packages/azure/cognitiveservices/speech/libMicrosoft.CognitiveServices.Speech.core.so(+0x139b9b) [0x7f761f939b9b]\n/home/pablosal/miniconda3/envs/lilly-speach-to-text/lib/python3.9/site-packages/azure/cognitiveservices/speech/libMicrosoft.CognitiveServices.Speech.core.so(+0x20dfe2) [0x7f761fa0dfe2]\n/home/pablosal/miniconda3/envs/lilly-speach-to-text/lib/python3.9/site-packages/azure/cognitiveservices/speech/libMicrosoft.CognitiveServices.Speech.core.so(recognizer_create_speech_recognizer_from_config+0xf2) [0x7f761f8bfc13]\n[CALL STACK END]\n\nException with an error code: 0xe (SPXERR_MIC_NOT_AVAILABLE)",
     "output_type": "error",
     "traceback": [
      "\u001b[0;31m---------------------------------------------------------------------------\u001b[0m",
      "\u001b[0;31mRuntimeError\u001b[0m                              Traceback (most recent call last)",
      "\u001b[1;32m/mnt/c/Users/pablosal/Desktop/lilly-workshop-gbb-text-to-speach/notebooks/dev/testing.ipynb Cell 5\u001b[0m line \u001b[0;36m1\n\u001b[1;32m      <a href='vscode-notebook-cell://wsl%2Bubuntu/mnt/c/Users/pablosal/Desktop/lilly-workshop-gbb-text-to-speach/notebooks/dev/testing.ipynb#X25sdnNjb2RlLXJlbW90ZQ%3D%3D?line=8'>9</a>\u001b[0m speech_config \u001b[39m=\u001b[39m speechsdk\u001b[39m.\u001b[39mSpeechConfig(subscription\u001b[39m=\u001b[39mKEY, region\u001b[39m=\u001b[39mREGION)\n\u001b[1;32m     <a href='vscode-notebook-cell://wsl%2Bubuntu/mnt/c/Users/pablosal/Desktop/lilly-workshop-gbb-text-to-speach/notebooks/dev/testing.ipynb#X25sdnNjb2RlLXJlbW90ZQ%3D%3D?line=10'>11</a>\u001b[0m \u001b[39m# Creates a recognizer with the given settings\u001b[39;00m\n\u001b[0;32m---> <a href='vscode-notebook-cell://wsl%2Bubuntu/mnt/c/Users/pablosal/Desktop/lilly-workshop-gbb-text-to-speach/notebooks/dev/testing.ipynb#X25sdnNjb2RlLXJlbW90ZQ%3D%3D?line=11'>12</a>\u001b[0m speech_recognizer \u001b[39m=\u001b[39m speechsdk\u001b[39m.\u001b[39;49mSpeechRecognizer(speech_config\u001b[39m=\u001b[39;49mspeech_config)\n\u001b[1;32m     <a href='vscode-notebook-cell://wsl%2Bubuntu/mnt/c/Users/pablosal/Desktop/lilly-workshop-gbb-text-to-speach/notebooks/dev/testing.ipynb#X25sdnNjb2RlLXJlbW90ZQ%3D%3D?line=13'>14</a>\u001b[0m \u001b[39mprint\u001b[39m(\u001b[39m\"\u001b[39m\u001b[39mSay something...\u001b[39m\u001b[39m\"\u001b[39m)\n",
      "File \u001b[0;32m~/miniconda3/envs/lilly-speach-to-text/lib/python3.9/site-packages/azure/cognitiveservices/speech/speech.py:1006\u001b[0m, in \u001b[0;36mSpeechRecognizer.__init__\u001b[0;34m(self, speech_config, audio_config, language, source_language_config, auto_detect_source_language_config)\u001b[0m\n\u001b[1;32m   1004\u001b[0m audio_config_handle \u001b[39m=\u001b[39m audio_config\u001b[39m.\u001b[39m_handle \u001b[39mif\u001b[39;00m audio_config \u001b[39mis\u001b[39;00m \u001b[39mnot\u001b[39;00m \u001b[39mNone\u001b[39;00m \u001b[39melse\u001b[39;00m \u001b[39mNone\u001b[39;00m\n\u001b[1;32m   1005\u001b[0m \u001b[39mif\u001b[39;00m language \u001b[39mis\u001b[39;00m \u001b[39mNone\u001b[39;00m \u001b[39mand\u001b[39;00m source_language_config \u001b[39mis\u001b[39;00m \u001b[39mNone\u001b[39;00m \u001b[39mand\u001b[39;00m auto_detect_source_language_config \u001b[39mis\u001b[39;00m \u001b[39mNone\u001b[39;00m:\n\u001b[0;32m-> 1006\u001b[0m     _call_hr_fn(\n\u001b[1;32m   1007\u001b[0m         fn\u001b[39m=\u001b[39;49m_sdk_lib\u001b[39m.\u001b[39;49mrecognizer_create_speech_recognizer_from_config,\n\u001b[1;32m   1008\u001b[0m         \u001b[39m*\u001b[39;49m[ctypes\u001b[39m.\u001b[39;49mbyref(handle), speech_config\u001b[39m.\u001b[39;49m_handle, audio_config_handle])\n\u001b[1;32m   1009\u001b[0m \u001b[39melif\u001b[39;00m language \u001b[39mis\u001b[39;00m \u001b[39mnot\u001b[39;00m \u001b[39mNone\u001b[39;00m:\n\u001b[1;32m   1010\u001b[0m     source_language_config \u001b[39m=\u001b[39m languageconfig\u001b[39m.\u001b[39mSourceLanguageConfig(language)\n",
      "File \u001b[0;32m~/miniconda3/envs/lilly-speach-to-text/lib/python3.9/site-packages/azure/cognitiveservices/speech/interop.py:62\u001b[0m, in \u001b[0;36m_call_hr_fn\u001b[0;34m(fn, *args)\u001b[0m\n\u001b[1;32m     60\u001b[0m fn\u001b[39m.\u001b[39mrestype \u001b[39m=\u001b[39m _spx_hr\n\u001b[1;32m     61\u001b[0m hr \u001b[39m=\u001b[39m fn(\u001b[39m*\u001b[39margs) \u001b[39mif\u001b[39;00m \u001b[39mlen\u001b[39m(args) \u001b[39m>\u001b[39m \u001b[39m0\u001b[39m \u001b[39melse\u001b[39;00m fn()\n\u001b[0;32m---> 62\u001b[0m _raise_if_failed(hr)\n",
      "File \u001b[0;32m~/miniconda3/envs/lilly-speach-to-text/lib/python3.9/site-packages/azure/cognitiveservices/speech/interop.py:55\u001b[0m, in \u001b[0;36m_raise_if_failed\u001b[0;34m(hr)\u001b[0m\n\u001b[1;32m     53\u001b[0m \u001b[39mdef\u001b[39;00m \u001b[39m_raise_if_failed\u001b[39m(hr: _spx_hr):\n\u001b[1;32m     54\u001b[0m     \u001b[39mif\u001b[39;00m hr \u001b[39m!=\u001b[39m \u001b[39m0\u001b[39m:\n\u001b[0;32m---> 55\u001b[0m         __try_get_error(_spx_handle(hr))\n\u001b[1;32m     56\u001b[0m         \u001b[39mraise\u001b[39;00m \u001b[39mRuntimeError\u001b[39;00m(hr)\n",
      "File \u001b[0;32m~/miniconda3/envs/lilly-speach-to-text/lib/python3.9/site-packages/azure/cognitiveservices/speech/interop.py:50\u001b[0m, in \u001b[0;36m__try_get_error\u001b[0;34m(error_handle)\u001b[0m\n\u001b[1;32m     45\u001b[0m message \u001b[39m=\u001b[39m \u001b[39m\"\u001b[39m\u001b[39mException with error code: \u001b[39m\u001b[39m%s\u001b[39;00m\u001b[39m%s\u001b[39;00m\u001b[39m\"\u001b[39m \u001b[39m%\u001b[39m (\n\u001b[1;32m     46\u001b[0m     callstack \u001b[39mif\u001b[39;00m callstack \u001b[39mis\u001b[39;00m \u001b[39mnot\u001b[39;00m \u001b[39mNone\u001b[39;00m \u001b[39melse\u001b[39;00m \u001b[39m\"\u001b[39m\u001b[39m\"\u001b[39m,\n\u001b[1;32m     47\u001b[0m     what \u001b[39mif\u001b[39;00m what \u001b[39mis\u001b[39;00m \u001b[39mnot\u001b[39;00m \u001b[39mNone\u001b[39;00m \u001b[39melse\u001b[39;00m code\n\u001b[1;32m     48\u001b[0m )\n\u001b[1;32m     49\u001b[0m _sdk_lib\u001b[39m.\u001b[39merror_release(error_handle)\n\u001b[0;32m---> 50\u001b[0m \u001b[39mraise\u001b[39;00m \u001b[39mRuntimeError\u001b[39;00m(message)\n",
      "\u001b[0;31mRuntimeError\u001b[0m: Exception with error code: \n[CALL STACK BEGIN]\n\n/home/pablosal/miniconda3/envs/lilly-speach-to-text/lib/python3.9/site-packages/azure/cognitiveservices/speech/libMicrosoft.CognitiveServices.Speech.extension.audio.sys.so(+0xe1e9) [0x7f761f40e1e9]\n/home/pablosal/miniconda3/envs/lilly-speach-to-text/lib/python3.9/site-packages/azure/cognitiveservices/speech/libMicrosoft.CognitiveServices.Speech.core.so(+0x1f44f9) [0x7f761f9f44f9]\n/home/pablosal/miniconda3/envs/lilly-speach-to-text/lib/python3.9/site-packages/azure/cognitiveservices/speech/libMicrosoft.CognitiveServices.Speech.core.so(+0xff4f7) [0x7f761f8ff4f7]\n/home/pablosal/miniconda3/envs/lilly-speach-to-text/lib/python3.9/site-packages/azure/cognitiveservices/speech/libMicrosoft.CognitiveServices.Speech.core.so(+0x1af42f) [0x7f761f9af42f]\n/home/pablosal/miniconda3/envs/lilly-speach-to-text/lib/python3.9/site-packages/azure/cognitiveservices/speech/libMicrosoft.CognitiveServices.Speech.core.so(+0xf108d) [0x7f761f8f108d]\n/home/pablosal/miniconda3/envs/lilly-speach-to-text/lib/python3.9/site-packages/azure/cognitiveservices/speech/libMicrosoft.CognitiveServices.Speech.core.so(+0x1f44f9) [0x7f761f9f44f9]\n/home/pablosal/miniconda3/envs/lilly-speach-to-text/lib/python3.9/site-packages/azure/cognitiveservices/speech/libMicrosoft.CognitiveServices.Speech.core.so(+0xff4f7) [0x7f761f8ff4f7]\n/home/pablosal/miniconda3/envs/lilly-speach-to-text/lib/python3.9/site-packages/azure/cognitiveservices/speech/libMicrosoft.CognitiveServices.Speech.core.so(+0x1ab483) [0x7f761f9ab483]\n/home/pablosal/miniconda3/envs/lilly-speach-to-text/lib/python3.9/site-packages/azure/cognitiveservices/speech/libMicrosoft.CognitiveServices.Speech.core.so(+0x192d81) [0x7f761f992d81]\n/home/pablosal/miniconda3/envs/lilly-speach-to-text/lib/python3.9/site-packages/azure/cognitiveservices/speech/libMicrosoft.CognitiveServices.Speech.core.so(+0x130379) [0x7f761f930379]\n/home/pablosal/miniconda3/envs/lilly-speach-to-text/lib/python3.9/site-packages/azure/cognitiveservices/speech/libMicrosoft.CognitiveServices.Speech.core.so(+0x130379) [0x7f761f930379]\n/home/pablosal/miniconda3/envs/lilly-speach-to-text/lib/python3.9/site-packages/azure/cognitiveservices/speech/libMicrosoft.CognitiveServices.Speech.core.so(+0x19b4f5) [0x7f761f99b4f5]\n/home/pablosal/miniconda3/envs/lilly-speach-to-text/lib/python3.9/site-packages/azure/cognitiveservices/speech/libMicrosoft.CognitiveServices.Speech.core.so(+0x13e44f) [0x7f761f93e44f]\n/home/pablosal/miniconda3/envs/lilly-speach-to-text/lib/python3.9/site-packages/azure/cognitiveservices/speech/libMicrosoft.CognitiveServices.Speech.core.so(+0x1e65f6) [0x7f761f9e65f6]\n/home/pablosal/miniconda3/envs/lilly-speach-to-text/lib/python3.9/site-packages/azure/cognitiveservices/speech/libMicrosoft.CognitiveServices.Speech.core.so(+0x139b9b) [0x7f761f939b9b]\n/home/pablosal/miniconda3/envs/lilly-speach-to-text/lib/python3.9/site-packages/azure/cognitiveservices/speech/libMicrosoft.CognitiveServices.Speech.core.so(+0x20dfe2) [0x7f761fa0dfe2]\n/home/pablosal/miniconda3/envs/lilly-speach-to-text/lib/python3.9/site-packages/azure/cognitiveservices/speech/libMicrosoft.CognitiveServices.Speech.core.so(recognizer_create_speech_recognizer_from_config+0xf2) [0x7f761f8bfc13]\n[CALL STACK END]\n\nException with an error code: 0xe (SPXERR_MIC_NOT_AVAILABLE)"
     ]
    }
   ],
   "source": [
    "# Copyright (c) Microsoft. All rights reserved.\n",
    "# Licensed under the MIT license. See LICENSE.md file in the project root for full license information.\n",
    "\n",
    "# <code>\n",
    "import azure.cognitiveservices.speech as speechsdk\n",
    "\n",
    "# Creates an instance of a speech config with specified subscription key and service region.\n",
    "# Replace with your own subscription key and service region (e.g., \"westus\").\n",
    "speech_config = speechsdk.SpeechConfig(subscription=KEY, region=REGION)\n",
    "\n",
    "# Creates a recognizer with the given settings\n",
    "speech_recognizer = speechsdk.SpeechRecognizer(speech_config=speech_config)\n",
    "\n",
    "print(\"Say something...\")\n",
    "\n"
   ]
  },
  {
   "cell_type": "code",
   "execution_count": null,
   "metadata": {},
   "outputs": [],
   "source": [
    "# Starts speech recognition, and returns after a single utterance is recognized. The end of a\n",
    "# single utterance is determined by listening for silence at the end or until a maximum of 15\n",
    "# seconds of audio is processed.  The task returns the recognition text as result. \n",
    "# Note: Since recognize_once() returns only a single utterance, it is suitable only for single\n",
    "# shot recognition like command or query. \n",
    "# For long-running multi-utterance recognition, use start_continuous_recognition() instead.\n",
    "result = speech_recognizer.recognize_once()\n",
    "\n",
    "# Checks result.\n",
    "if result.reason == speechsdk.ResultReason.RecognizedSpeech:\n",
    "    print(\"Recognized: {}\".format(result.text))\n",
    "elif result.reason == speechsdk.ResultReason.NoMatch:\n",
    "    print(\"No speech could be recognized: {}\".format(result.no_match_details))\n",
    "elif result.reason == speechsdk.ResultReason.Canceled:\n",
    "    cancellation_details = result.cancellation_details\n",
    "    print(\"Speech Recognition canceled: {}\".format(cancellation_details.reason))\n",
    "    if cancellation_details.reason == speechsdk.CancellationReason.Error:\n",
    "        print(\"Error details: {}\".format(cancellation_details.error_details))"
   ]
  },
  {
   "cell_type": "code",
   "execution_count": null,
   "metadata": {},
   "outputs": [],
   "source": [
    "speech_config = speechsdk.SpeechConfig(subscription=KEY, region=REGION)"
   ]
  },
  {
   "cell_type": "code",
   "execution_count": null,
   "metadata": {},
   "outputs": [],
   "source": [
    "speech_config.enable_audio_logging()"
   ]
  },
  {
   "cell_type": "code",
   "execution_count": null,
   "metadata": {},
   "outputs": [],
   "source": [
    "speech_recognizer = speechsdk.SpeechRecognizer(speech_config=speech_config)"
   ]
  },
  {
   "cell_type": "code",
   "execution_count": null,
   "metadata": {},
   "outputs": [],
   "source": [
    "audio_config = speechsdk.AudioConfig(filename=FILE_NAME)"
   ]
  },
  {
   "cell_type": "code",
   "execution_count": null,
   "metadata": {},
   "outputs": [],
   "source": [
    "audio_config.get_property?"
   ]
  },
  {
   "cell_type": "code",
   "execution_count": null,
   "metadata": {},
   "outputs": [],
   "source": [
    "speech_recognizer = speechsdk.SpeechRecognizer(speech_config=speech_config, audio_config=audio_config)"
   ]
  },
  {
   "cell_type": "code",
   "execution_count": null,
   "metadata": {},
   "outputs": [],
   "source": [
    "speech_recognizer"
   ]
  },
  {
   "cell_type": "code",
   "execution_count": null,
   "metadata": {},
   "outputs": [],
   "source": [
    "result = speech_recognizer.recognize_once_async().get()"
   ]
  },
  {
   "cell_type": "code",
   "execution_count": null,
   "metadata": {},
   "outputs": [],
   "source": [
    "result.text"
   ]
  },
  {
   "cell_type": "code",
   "execution_count": null,
   "metadata": {},
   "outputs": [],
   "source": [
    "speech_config"
   ]
  },
  {
   "cell_type": "code",
   "execution_count": null,
   "metadata": {},
   "outputs": [],
   "source": [
    "speech_recognizer = speechsdk.SpeechRecognizer(speech_config=speech_config)"
   ]
  },
  {
   "cell_type": "code",
   "execution_count": null,
   "metadata": {},
   "outputs": [],
   "source": []
  }
 ],
 "metadata": {
  "kernelspec": {
   "display_name": "Python 3.10.12 ('my-template-environment')",
   "language": "python",
   "name": "python3"
  },
  "language_info": {
   "codemirror_mode": {
    "name": "ipython",
    "version": 3
   },
   "file_extension": ".py",
   "mimetype": "text/x-python",
   "name": "python",
   "nbconvert_exporter": "python",
   "pygments_lexer": "ipython3",
   "version": "3.9.18"
  },
  "orig_nbformat": 4,
  "vscode": {
   "interpreter": {
    "hash": "7cde2d05b67b86bafb567671a494f38119b1228112c72ed3f4909b1daf51dd2c"
   }
  }
 },
 "nbformat": 4,
 "nbformat_minor": 2
}
