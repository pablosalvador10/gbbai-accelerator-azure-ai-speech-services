{
 "cells": [
  {
   "cell_type": "code",
   "execution_count": 1,
   "metadata": {},
   "outputs": [
    {
     "name": "stdout",
     "output_type": "stream",
     "text": [
      "Directory changed to C:\\Users\\pablosal\\Desktop\\gbbai-azure-ai-speech-services\n"
     ]
    }
   ],
   "source": [
    "import os\n",
    "\n",
    "# Define the target directory (change yours)\n",
    "target_directory = r\"C:\\Users\\pablosal\\Desktop\\gbbai-azure-ai-speech-services\"\n",
    "\n",
    "# Check if the directory exists\n",
    "if os.path.exists(target_directory):\n",
    "    # Change the current working directory\n",
    "    os.chdir(target_directory)\n",
    "    print(f\"Directory changed to {os.getcwd()}\")\n",
    "else:\n",
    "    print(f\"Directory {target_directory} does not exist.\")"
   ]
  },
  {
   "cell_type": "code",
   "execution_count": 2,
   "metadata": {},
   "outputs": [],
   "source": [
    "from src.speech.utils_audio import log_audio_characteristics\n",
    "from src.speech.utils_audio import check_audio_file"
   ]
  },
  {
   "cell_type": "code",
   "execution_count": 3,
   "metadata": {},
   "outputs": [],
   "source": [
    "AUDIO_MONO = \"C:\\\\Users\\\\pablosal\\\\Desktop\\\\gbbai-azure-ai-speech-services\\\\notebooks\\\\dev\\\\audio_data\\\\7.pcm\"\n",
    "AUDIO_STEREO = \"C:\\\\Users\\\\pablosal\\\\Desktop\\\\gbbai-azure-ai-speech-services\\\\notebooks\\\\dev\\\\audio_data\\\\d6a35a5e-be01-40cd-b9ef-d61fcda699fa.pcm\""
   ]
  },
  {
   "cell_type": "code",
   "execution_count": 4,
   "metadata": {},
   "outputs": [
    {
     "name": "stderr",
     "output_type": "stream",
     "text": [
      "2024-01-09 11:57:22,274 - micro - MainProcess - INFO     Number of Channels: 2 (utils_audio.py:log_audio_characteristics:74)\n",
      "2024-01-09 11:57:22,277 - micro - MainProcess - INFO     Sample Width: 1 (utils_audio.py:log_audio_characteristics:75)\n",
      "2024-01-09 11:57:22,278 - micro - MainProcess - INFO     Frame Rate: 8000 (utils_audio.py:log_audio_characteristics:76)\n",
      "2024-01-09 11:57:22,279 - micro - MainProcess - INFO     Number of Frames: 182880 (utils_audio.py:log_audio_characteristics:77)\n",
      "2024-01-09 11:57:22,280 - micro - MainProcess - INFO     Compression Type: NONE (utils_audio.py:log_audio_characteristics:78)\n",
      "2024-01-09 11:57:22,283 - micro - MainProcess - INFO     Compression Name: not compressed (utils_audio.py:log_audio_characteristics:79)\n",
      "2024-01-09 11:57:22,284 - micro - MainProcess - INFO     Bytes Per Second: 16000 (utils_audio.py:log_audio_characteristics:83)\n"
     ]
    }
   ],
   "source": [
    "log_audio_characteristics(file_path=AUDIO_STEREO)"
   ]
  },
  {
   "cell_type": "code",
   "execution_count": 13,
   "metadata": {},
   "outputs": [
    {
     "name": "stderr",
     "output_type": "stream",
     "text": [
      "2024-01-09 10:34:43,280 - micro - MainProcess - INFO     Number of Channels: 2 (utils_audio.py:log_audio_characteristics:76)\n",
      "2024-01-09 10:34:43,282 - micro - MainProcess - INFO     Sample Width: 1 (utils_audio.py:log_audio_characteristics:77)\n",
      "2024-01-09 10:34:43,283 - micro - MainProcess - INFO     Frame Rate: 8000 (utils_audio.py:log_audio_characteristics:78)\n",
      "2024-01-09 10:34:43,284 - micro - MainProcess - INFO     Number of Frames: 182880 (utils_audio.py:log_audio_characteristics:79)\n",
      "2024-01-09 10:34:43,286 - micro - MainProcess - INFO     Compression Type: NONE (utils_audio.py:log_audio_characteristics:80)\n",
      "2024-01-09 10:34:43,287 - micro - MainProcess - INFO     Compression Name: not compressed (utils_audio.py:log_audio_characteristics:81)\n",
      "2024-01-09 10:34:43,288 - micro - MainProcess - INFO     Bytes Per Second: 16000 (utils_audio.py:log_audio_characteristics:85)\n"
     ]
    }
   ],
   "source": [
    "log_audio_characteristics(file_path=AUDIO_MONO)"
   ]
  },
  {
   "cell_type": "code",
   "execution_count": null,
   "metadata": {},
   "outputs": [],
   "source": []
  }
 ],
 "metadata": {
  "kernelspec": {
   "display_name": "speech-ai-azure-services",
   "language": "python",
   "name": "python3"
  },
  "language_info": {
   "codemirror_mode": {
    "name": "ipython",
    "version": 3
   },
   "file_extension": ".py",
   "mimetype": "text/x-python",
   "name": "python",
   "nbconvert_exporter": "python",
   "pygments_lexer": "ipython3",
   "version": "3.9.18"
  }
 },
 "nbformat": 4,
 "nbformat_minor": 2
}
